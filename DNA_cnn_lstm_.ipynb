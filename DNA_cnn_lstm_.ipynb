{
  "cells": [
    {
      "cell_type": "code",
      "execution_count": null,
      "metadata": {
        "id": "XmQPnpvpkuid"
      },
      "outputs": [],
      "source": [
        "import numpy as np \n",
        "import matplotlib.pyplot as plt\n",
        "import pandas as pd \n",
        "from tensorflow.keras.preprocessing.sequence import pad_sequences\n",
        "from keras.layers import Dense, Input, LSTM, Embedding, Dropout, Activation, Conv1D, GRU, CuDNNGRU, CuDNNLSTM, BatchNormalization\n",
        "from keras.layers import Bidirectional, GlobalMaxPool1D, MaxPooling1D, Add, Flatten, Masking\n",
        "from keras.layers import GlobalAveragePooling1D, GlobalMaxPooling1D, concatenate, SpatialDropout1D\n",
        "from keras.models import Model, load_model\n",
        "from keras import initializers, regularizers, constraints, optimizers, layers, callbacks\n",
        "from keras import backend as K\n",
        "\n",
        "\n",
        "from keras.callbacks import ModelCheckpoint, TensorBoard, Callback, EarlyStopping, ReduceLROnPlateau\n",
        "from sklearn.preprocessing import OneHotEncoder"
      ]
    },
    {
      "cell_type": "code",
      "execution_count": null,
      "metadata": {
        "id": "xVWe2sZ4lZFc"
      },
      "outputs": [],
      "source": [
        "df = pd.read_csv('/content/human.txt' )"
      ]
    },
    {
      "cell_type": "code",
      "execution_count": null,
      "metadata": {
        "colab": {
          "base_uri": "https://localhost:8080/",
          "height": 424
        },
        "id": "52K_R7vylZL4",
        "outputId": "f1cdb49b-c2e8-4539-d570-66cbfb6aa779"
      },
      "outputs": [
        {
          "data": {
            "text/html": [
              "\n",
              "  <div id=\"df-87457b06-586b-437a-8c36-b0e7327df852\">\n",
              "    <div class=\"colab-df-container\">\n",
              "      <div>\n",
              "<style scoped>\n",
              "    .dataframe tbody tr th:only-of-type {\n",
              "        vertical-align: middle;\n",
              "    }\n",
              "\n",
              "    .dataframe tbody tr th {\n",
              "        vertical-align: top;\n",
              "    }\n",
              "\n",
              "    .dataframe thead th {\n",
              "        text-align: right;\n",
              "    }\n",
              "</style>\n",
              "<table border=\"1\" class=\"dataframe\">\n",
              "  <thead>\n",
              "    <tr style=\"text-align: right;\">\n",
              "      <th></th>\n",
              "      <th>sequence\\tclass</th>\n",
              "    </tr>\n",
              "  </thead>\n",
              "  <tbody>\n",
              "    <tr>\n",
              "      <th>0</th>\n",
              "      <td>ATGCCCCAACTAAATACTACCGTATGGCCCACCATAATTACCCCCA...</td>\n",
              "    </tr>\n",
              "    <tr>\n",
              "      <th>1</th>\n",
              "      <td>ATGAACGAAAATCTGTTCGCTTCATTCATTGCCCCCACAATCCTAG...</td>\n",
              "    </tr>\n",
              "    <tr>\n",
              "      <th>2</th>\n",
              "      <td>ATGTGTGGCATTTGGGCGCTGTTTGGCAGTGATGATTGCCTTTCTG...</td>\n",
              "    </tr>\n",
              "    <tr>\n",
              "      <th>3</th>\n",
              "      <td>ATGTGTGGCATTTGGGCGCTGTTTGGCAGTGATGATTGCCTTTCTG...</td>\n",
              "    </tr>\n",
              "    <tr>\n",
              "      <th>4</th>\n",
              "      <td>ATGCAACAGCATTTTGAATTTGAATACCAGACCAAAGTGGATGGTG...</td>\n",
              "    </tr>\n",
              "    <tr>\n",
              "      <th>...</th>\n",
              "      <td>...</td>\n",
              "    </tr>\n",
              "    <tr>\n",
              "      <th>4375</th>\n",
              "      <td>ATGGAAGATTTGGAGGAAACATTATTTGAAGAATTTGAAAACTATT...</td>\n",
              "    </tr>\n",
              "    <tr>\n",
              "      <th>4376</th>\n",
              "      <td>ATGCAGTCCTTTCGGGAGCAAAGCAGTTACCACGGAAACCAGCAAA...</td>\n",
              "    </tr>\n",
              "    <tr>\n",
              "      <th>4377</th>\n",
              "      <td>ATGCAGTCCTTTCGGGAGCAAAGCAGTTACCACGGAAACCAGCAAA...</td>\n",
              "    </tr>\n",
              "    <tr>\n",
              "      <th>4378</th>\n",
              "      <td>ATGGGGCACCTGGTTTGCTGTCTGTGTGGCAAGTGGGCCAGTTACC...</td>\n",
              "    </tr>\n",
              "    <tr>\n",
              "      <th>4379</th>\n",
              "      <td>ATGCAGTCCTTTCGGGAGCAAAGCAGTTACCACGGAAACCAGCAAA...</td>\n",
              "    </tr>\n",
              "  </tbody>\n",
              "</table>\n",
              "<p>4380 rows × 1 columns</p>\n",
              "</div>\n",
              "      <button class=\"colab-df-convert\" onclick=\"convertToInteractive('df-87457b06-586b-437a-8c36-b0e7327df852')\"\n",
              "              title=\"Convert this dataframe to an interactive table.\"\n",
              "              style=\"display:none;\">\n",
              "        \n",
              "  <svg xmlns=\"http://www.w3.org/2000/svg\" height=\"24px\"viewBox=\"0 0 24 24\"\n",
              "       width=\"24px\">\n",
              "    <path d=\"M0 0h24v24H0V0z\" fill=\"none\"/>\n",
              "    <path d=\"M18.56 5.44l.94 2.06.94-2.06 2.06-.94-2.06-.94-.94-2.06-.94 2.06-2.06.94zm-11 1L8.5 8.5l.94-2.06 2.06-.94-2.06-.94L8.5 2.5l-.94 2.06-2.06.94zm10 10l.94 2.06.94-2.06 2.06-.94-2.06-.94-.94-2.06-.94 2.06-2.06.94z\"/><path d=\"M17.41 7.96l-1.37-1.37c-.4-.4-.92-.59-1.43-.59-.52 0-1.04.2-1.43.59L10.3 9.45l-7.72 7.72c-.78.78-.78 2.05 0 2.83L4 21.41c.39.39.9.59 1.41.59.51 0 1.02-.2 1.41-.59l7.78-7.78 2.81-2.81c.8-.78.8-2.07 0-2.86zM5.41 20L4 18.59l7.72-7.72 1.47 1.35L5.41 20z\"/>\n",
              "  </svg>\n",
              "      </button>\n",
              "      \n",
              "  <style>\n",
              "    .colab-df-container {\n",
              "      display:flex;\n",
              "      flex-wrap:wrap;\n",
              "      gap: 12px;\n",
              "    }\n",
              "\n",
              "    .colab-df-convert {\n",
              "      background-color: #E8F0FE;\n",
              "      border: none;\n",
              "      border-radius: 50%;\n",
              "      cursor: pointer;\n",
              "      display: none;\n",
              "      fill: #1967D2;\n",
              "      height: 32px;\n",
              "      padding: 0 0 0 0;\n",
              "      width: 32px;\n",
              "    }\n",
              "\n",
              "    .colab-df-convert:hover {\n",
              "      background-color: #E2EBFA;\n",
              "      box-shadow: 0px 1px 2px rgba(60, 64, 67, 0.3), 0px 1px 3px 1px rgba(60, 64, 67, 0.15);\n",
              "      fill: #174EA6;\n",
              "    }\n",
              "\n",
              "    [theme=dark] .colab-df-convert {\n",
              "      background-color: #3B4455;\n",
              "      fill: #D2E3FC;\n",
              "    }\n",
              "\n",
              "    [theme=dark] .colab-df-convert:hover {\n",
              "      background-color: #434B5C;\n",
              "      box-shadow: 0px 1px 3px 1px rgba(0, 0, 0, 0.15);\n",
              "      filter: drop-shadow(0px 1px 2px rgba(0, 0, 0, 0.3));\n",
              "      fill: #FFFFFF;\n",
              "    }\n",
              "  </style>\n",
              "\n",
              "      <script>\n",
              "        const buttonEl =\n",
              "          document.querySelector('#df-87457b06-586b-437a-8c36-b0e7327df852 button.colab-df-convert');\n",
              "        buttonEl.style.display =\n",
              "          google.colab.kernel.accessAllowed ? 'block' : 'none';\n",
              "\n",
              "        async function convertToInteractive(key) {\n",
              "          const element = document.querySelector('#df-87457b06-586b-437a-8c36-b0e7327df852');\n",
              "          const dataTable =\n",
              "            await google.colab.kernel.invokeFunction('convertToInteractive',\n",
              "                                                     [key], {});\n",
              "          if (!dataTable) return;\n",
              "\n",
              "          const docLinkHtml = 'Like what you see? Visit the ' +\n",
              "            '<a target=\"_blank\" href=https://colab.research.google.com/notebooks/data_table.ipynb>data table notebook</a>'\n",
              "            + ' to learn more about interactive tables.';\n",
              "          element.innerHTML = '';\n",
              "          dataTable['output_type'] = 'display_data';\n",
              "          await google.colab.output.renderOutput(dataTable, element);\n",
              "          const docLink = document.createElement('div');\n",
              "          docLink.innerHTML = docLinkHtml;\n",
              "          element.appendChild(docLink);\n",
              "        }\n",
              "      </script>\n",
              "    </div>\n",
              "  </div>\n",
              "  "
            ],
            "text/plain": [
              "                                        sequence\\tclass\n",
              "0     ATGCCCCAACTAAATACTACCGTATGGCCCACCATAATTACCCCCA...\n",
              "1     ATGAACGAAAATCTGTTCGCTTCATTCATTGCCCCCACAATCCTAG...\n",
              "2     ATGTGTGGCATTTGGGCGCTGTTTGGCAGTGATGATTGCCTTTCTG...\n",
              "3     ATGTGTGGCATTTGGGCGCTGTTTGGCAGTGATGATTGCCTTTCTG...\n",
              "4     ATGCAACAGCATTTTGAATTTGAATACCAGACCAAAGTGGATGGTG...\n",
              "...                                                 ...\n",
              "4375  ATGGAAGATTTGGAGGAAACATTATTTGAAGAATTTGAAAACTATT...\n",
              "4376  ATGCAGTCCTTTCGGGAGCAAAGCAGTTACCACGGAAACCAGCAAA...\n",
              "4377  ATGCAGTCCTTTCGGGAGCAAAGCAGTTACCACGGAAACCAGCAAA...\n",
              "4378  ATGGGGCACCTGGTTTGCTGTCTGTGTGGCAAGTGGGCCAGTTACC...\n",
              "4379  ATGCAGTCCTTTCGGGAGCAAAGCAGTTACCACGGAAACCAGCAAA...\n",
              "\n",
              "[4380 rows x 1 columns]"
            ]
          },
          "execution_count": 3,
          "metadata": {},
          "output_type": "execute_result"
        }
      ],
      "source": [
        "df"
      ]
    },
    {
      "cell_type": "code",
      "execution_count": null,
      "metadata": {
        "id": "j7ZqSdYTlZPm"
      },
      "outputs": [],
      "source": [
        "# split column into multiple columns by delimiter \n",
        "df[['sequence','class']] = df['sequence\\tclass'].str.split('\\t', expand = True)\n",
        "human_df = df.drop('sequence\\tclass' ,  axis = 1)"
      ]
    },
    {
      "cell_type": "code",
      "execution_count": null,
      "metadata": {
        "colab": {
          "base_uri": "https://localhost:8080/",
          "height": 424
        },
        "id": "Yp54NVQ8lZSl",
        "outputId": "73be898f-6a5d-41ea-fc1a-fa392c4a68eb"
      },
      "outputs": [
        {
          "data": {
            "text/html": [
              "\n",
              "  <div id=\"df-496a7989-ad89-4c1f-930c-f396dfa0857c\">\n",
              "    <div class=\"colab-df-container\">\n",
              "      <div>\n",
              "<style scoped>\n",
              "    .dataframe tbody tr th:only-of-type {\n",
              "        vertical-align: middle;\n",
              "    }\n",
              "\n",
              "    .dataframe tbody tr th {\n",
              "        vertical-align: top;\n",
              "    }\n",
              "\n",
              "    .dataframe thead th {\n",
              "        text-align: right;\n",
              "    }\n",
              "</style>\n",
              "<table border=\"1\" class=\"dataframe\">\n",
              "  <thead>\n",
              "    <tr style=\"text-align: right;\">\n",
              "      <th></th>\n",
              "      <th>sequence</th>\n",
              "      <th>class</th>\n",
              "    </tr>\n",
              "  </thead>\n",
              "  <tbody>\n",
              "    <tr>\n",
              "      <th>0</th>\n",
              "      <td>ATGCCCCAACTAAATACTACCGTATGGCCCACCATAATTACCCCCA...</td>\n",
              "      <td>4</td>\n",
              "    </tr>\n",
              "    <tr>\n",
              "      <th>1</th>\n",
              "      <td>ATGAACGAAAATCTGTTCGCTTCATTCATTGCCCCCACAATCCTAG...</td>\n",
              "      <td>4</td>\n",
              "    </tr>\n",
              "    <tr>\n",
              "      <th>2</th>\n",
              "      <td>ATGTGTGGCATTTGGGCGCTGTTTGGCAGTGATGATTGCCTTTCTG...</td>\n",
              "      <td>3</td>\n",
              "    </tr>\n",
              "    <tr>\n",
              "      <th>3</th>\n",
              "      <td>ATGTGTGGCATTTGGGCGCTGTTTGGCAGTGATGATTGCCTTTCTG...</td>\n",
              "      <td>3</td>\n",
              "    </tr>\n",
              "    <tr>\n",
              "      <th>4</th>\n",
              "      <td>ATGCAACAGCATTTTGAATTTGAATACCAGACCAAAGTGGATGGTG...</td>\n",
              "      <td>3</td>\n",
              "    </tr>\n",
              "    <tr>\n",
              "      <th>...</th>\n",
              "      <td>...</td>\n",
              "      <td>...</td>\n",
              "    </tr>\n",
              "    <tr>\n",
              "      <th>4375</th>\n",
              "      <td>ATGGAAGATTTGGAGGAAACATTATTTGAAGAATTTGAAAACTATT...</td>\n",
              "      <td>0</td>\n",
              "    </tr>\n",
              "    <tr>\n",
              "      <th>4376</th>\n",
              "      <td>ATGCAGTCCTTTCGGGAGCAAAGCAGTTACCACGGAAACCAGCAAA...</td>\n",
              "      <td>6</td>\n",
              "    </tr>\n",
              "    <tr>\n",
              "      <th>4377</th>\n",
              "      <td>ATGCAGTCCTTTCGGGAGCAAAGCAGTTACCACGGAAACCAGCAAA...</td>\n",
              "      <td>6</td>\n",
              "    </tr>\n",
              "    <tr>\n",
              "      <th>4378</th>\n",
              "      <td>ATGGGGCACCTGGTTTGCTGTCTGTGTGGCAAGTGGGCCAGTTACC...</td>\n",
              "      <td>6</td>\n",
              "    </tr>\n",
              "    <tr>\n",
              "      <th>4379</th>\n",
              "      <td>ATGCAGTCCTTTCGGGAGCAAAGCAGTTACCACGGAAACCAGCAAA...</td>\n",
              "      <td>6</td>\n",
              "    </tr>\n",
              "  </tbody>\n",
              "</table>\n",
              "<p>4380 rows × 2 columns</p>\n",
              "</div>\n",
              "      <button class=\"colab-df-convert\" onclick=\"convertToInteractive('df-496a7989-ad89-4c1f-930c-f396dfa0857c')\"\n",
              "              title=\"Convert this dataframe to an interactive table.\"\n",
              "              style=\"display:none;\">\n",
              "        \n",
              "  <svg xmlns=\"http://www.w3.org/2000/svg\" height=\"24px\"viewBox=\"0 0 24 24\"\n",
              "       width=\"24px\">\n",
              "    <path d=\"M0 0h24v24H0V0z\" fill=\"none\"/>\n",
              "    <path d=\"M18.56 5.44l.94 2.06.94-2.06 2.06-.94-2.06-.94-.94-2.06-.94 2.06-2.06.94zm-11 1L8.5 8.5l.94-2.06 2.06-.94-2.06-.94L8.5 2.5l-.94 2.06-2.06.94zm10 10l.94 2.06.94-2.06 2.06-.94-2.06-.94-.94-2.06-.94 2.06-2.06.94z\"/><path d=\"M17.41 7.96l-1.37-1.37c-.4-.4-.92-.59-1.43-.59-.52 0-1.04.2-1.43.59L10.3 9.45l-7.72 7.72c-.78.78-.78 2.05 0 2.83L4 21.41c.39.39.9.59 1.41.59.51 0 1.02-.2 1.41-.59l7.78-7.78 2.81-2.81c.8-.78.8-2.07 0-2.86zM5.41 20L4 18.59l7.72-7.72 1.47 1.35L5.41 20z\"/>\n",
              "  </svg>\n",
              "      </button>\n",
              "      \n",
              "  <style>\n",
              "    .colab-df-container {\n",
              "      display:flex;\n",
              "      flex-wrap:wrap;\n",
              "      gap: 12px;\n",
              "    }\n",
              "\n",
              "    .colab-df-convert {\n",
              "      background-color: #E8F0FE;\n",
              "      border: none;\n",
              "      border-radius: 50%;\n",
              "      cursor: pointer;\n",
              "      display: none;\n",
              "      fill: #1967D2;\n",
              "      height: 32px;\n",
              "      padding: 0 0 0 0;\n",
              "      width: 32px;\n",
              "    }\n",
              "\n",
              "    .colab-df-convert:hover {\n",
              "      background-color: #E2EBFA;\n",
              "      box-shadow: 0px 1px 2px rgba(60, 64, 67, 0.3), 0px 1px 3px 1px rgba(60, 64, 67, 0.15);\n",
              "      fill: #174EA6;\n",
              "    }\n",
              "\n",
              "    [theme=dark] .colab-df-convert {\n",
              "      background-color: #3B4455;\n",
              "      fill: #D2E3FC;\n",
              "    }\n",
              "\n",
              "    [theme=dark] .colab-df-convert:hover {\n",
              "      background-color: #434B5C;\n",
              "      box-shadow: 0px 1px 3px 1px rgba(0, 0, 0, 0.15);\n",
              "      filter: drop-shadow(0px 1px 2px rgba(0, 0, 0, 0.3));\n",
              "      fill: #FFFFFF;\n",
              "    }\n",
              "  </style>\n",
              "\n",
              "      <script>\n",
              "        const buttonEl =\n",
              "          document.querySelector('#df-496a7989-ad89-4c1f-930c-f396dfa0857c button.colab-df-convert');\n",
              "        buttonEl.style.display =\n",
              "          google.colab.kernel.accessAllowed ? 'block' : 'none';\n",
              "\n",
              "        async function convertToInteractive(key) {\n",
              "          const element = document.querySelector('#df-496a7989-ad89-4c1f-930c-f396dfa0857c');\n",
              "          const dataTable =\n",
              "            await google.colab.kernel.invokeFunction('convertToInteractive',\n",
              "                                                     [key], {});\n",
              "          if (!dataTable) return;\n",
              "\n",
              "          const docLinkHtml = 'Like what you see? Visit the ' +\n",
              "            '<a target=\"_blank\" href=https://colab.research.google.com/notebooks/data_table.ipynb>data table notebook</a>'\n",
              "            + ' to learn more about interactive tables.';\n",
              "          element.innerHTML = '';\n",
              "          dataTable['output_type'] = 'display_data';\n",
              "          await google.colab.output.renderOutput(dataTable, element);\n",
              "          const docLink = document.createElement('div');\n",
              "          docLink.innerHTML = docLinkHtml;\n",
              "          element.appendChild(docLink);\n",
              "        }\n",
              "      </script>\n",
              "    </div>\n",
              "  </div>\n",
              "  "
            ],
            "text/plain": [
              "                                               sequence class\n",
              "0     ATGCCCCAACTAAATACTACCGTATGGCCCACCATAATTACCCCCA...     4\n",
              "1     ATGAACGAAAATCTGTTCGCTTCATTCATTGCCCCCACAATCCTAG...     4\n",
              "2     ATGTGTGGCATTTGGGCGCTGTTTGGCAGTGATGATTGCCTTTCTG...     3\n",
              "3     ATGTGTGGCATTTGGGCGCTGTTTGGCAGTGATGATTGCCTTTCTG...     3\n",
              "4     ATGCAACAGCATTTTGAATTTGAATACCAGACCAAAGTGGATGGTG...     3\n",
              "...                                                 ...   ...\n",
              "4375  ATGGAAGATTTGGAGGAAACATTATTTGAAGAATTTGAAAACTATT...     0\n",
              "4376  ATGCAGTCCTTTCGGGAGCAAAGCAGTTACCACGGAAACCAGCAAA...     6\n",
              "4377  ATGCAGTCCTTTCGGGAGCAAAGCAGTTACCACGGAAACCAGCAAA...     6\n",
              "4378  ATGGGGCACCTGGTTTGCTGTCTGTGTGGCAAGTGGGCCAGTTACC...     6\n",
              "4379  ATGCAGTCCTTTCGGGAGCAAAGCAGTTACCACGGAAACCAGCAAA...     6\n",
              "\n",
              "[4380 rows x 2 columns]"
            ]
          },
          "execution_count": 5,
          "metadata": {},
          "output_type": "execute_result"
        }
      ],
      "source": [
        "human_df"
      ]
    },
    {
      "cell_type": "code",
      "execution_count": null,
      "metadata": {
        "colab": {
          "base_uri": "https://localhost:8080/",
          "height": 295
        },
        "id": "N3urXFUWqvYn",
        "outputId": "88e7fd12-dd97-4090-a941-45d39376be38"
      },
      "outputs": [
        {
          "data": {
            "text/plain": [
              "Text(0.5, 1.0, 'Class distribution of human DNA')"
            ]
          },
          "execution_count": 6,
          "metadata": {},
          "output_type": "execute_result"
        },
        {
          "data": {
            "image/png": "[encoded data removed]",
            "text/plain": [
              "<Figure size 432x288 with 1 Axes>"
            ]
          },
          "metadata": {},
          "output_type": "display_data"
        }
      ],
      "source": [
        "human_df['class'].value_counts().sort_index().plot.bar()\n",
        "plt.title(\"Class distribution of human DNA\")"
      ]
    },
    {
      "cell_type": "code",
      "execution_count": null,
      "metadata": {
        "id": "nBEa5PCglZVo"
      },
      "outputs": [],
      "source": [
        "def Kmers_funct(seq, size):\n",
        "    s = [seq[x:x+size].lower() for x in range(0 , len(seq) - size + 1 ,6)]\n",
        "    return ' '.join(s)"
      ]
    },
    {
      "cell_type": "markdown",
      "metadata": {
        "id": "Yc3Ow82hLZvs"
      },
      "source": [
        "k-mers function returns all of a sequence's subsequences of length , such that the sequence AGAT would have four monomers (A, G, A, and T), three 2-mers (AG, GA, AT), two 3-mers (AGA and GAT) and one 4-mer (AGAT) .\n",
        "i've converted the dna sequence to a sentece of k mers in order to treat it as a normal nlp task ."
      ]
    },
    {
      "cell_type": "code",
      "execution_count": null,
      "metadata": {
        "id": "gU7MnKNhlZYY"
      },
      "outputs": [],
      "source": [
        "human_df['k_mers'] = human_df['sequence'].apply((lambda x: Kmers_funct(x , 9)))"
      ]
    },
    {
      "cell_type": "code",
      "execution_count": null,
      "metadata": {
        "id": "IA3RzXVblZb0"
      },
      "outputs": [],
      "source": [
        "human_df = human_df.drop('sequence' , axis = 1)"
      ]
    },
    {
      "cell_type": "code",
      "execution_count": null,
      "metadata": {
        "colab": {
          "base_uri": "https://localhost:8080/",
          "height": 424
        },
        "id": "-OleYJUNmOri",
        "outputId": "42f0f4de-e8f9-4a7e-d2c9-b26c70da7d41"
      },
      "outputs": [
        {
          "data": {
            "text/html": [
              "\n",
              "  <div id=\"df-79364e0b-5b77-46dd-8947-53cc4fe0b107\">\n",
              "    <div class=\"colab-df-container\">\n",
              "      <div>\n",
              "<style scoped>\n",
              "    .dataframe tbody tr th:only-of-type {\n",
              "        vertical-align: middle;\n",
              "    }\n",
              "\n",
              "    .dataframe tbody tr th {\n",
              "        vertical-align: top;\n",
              "    }\n",
              "\n",
              "    .dataframe thead th {\n",
              "        text-align: right;\n",
              "    }\n",
              "</style>\n",
              "<table border=\"1\" class=\"dataframe\">\n",
              "  <thead>\n",
              "    <tr style=\"text-align: right;\">\n",
              "      <th></th>\n",
              "      <th>class</th>\n",
              "      <th>k_mers</th>\n",
              "    </tr>\n",
              "  </thead>\n",
              "  <tbody>\n",
              "    <tr>\n",
              "      <th>0</th>\n",
              "      <td>4</td>\n",
              "      <td>atgccccaa caactaaat aatactacc accgtatgg tggccc...</td>\n",
              "    </tr>\n",
              "    <tr>\n",
              "      <th>1</th>\n",
              "      <td>4</td>\n",
              "      <td>atgaacgaa gaaaatctg ctgttcgct gcttcattc ttcatt...</td>\n",
              "    </tr>\n",
              "    <tr>\n",
              "      <th>2</th>\n",
              "      <td>3</td>\n",
              "      <td>atgtgtggc ggcatttgg tgggcgctg ctgtttggc ggcagt...</td>\n",
              "    </tr>\n",
              "    <tr>\n",
              "      <th>3</th>\n",
              "      <td>3</td>\n",
              "      <td>atgtgtggc ggcatttgg tgggcgctg ctgtttggc ggcagt...</td>\n",
              "    </tr>\n",
              "    <tr>\n",
              "      <th>4</th>\n",
              "      <td>3</td>\n",
              "      <td>atgcaacag cagcatttt tttgaattt tttgaatac taccag...</td>\n",
              "    </tr>\n",
              "    <tr>\n",
              "      <th>...</th>\n",
              "      <td>...</td>\n",
              "      <td>...</td>\n",
              "    </tr>\n",
              "    <tr>\n",
              "      <th>4375</th>\n",
              "      <td>0</td>\n",
              "      <td>atggaagat gatttggag gaggaaaca acattattt tttgaa...</td>\n",
              "    </tr>\n",
              "    <tr>\n",
              "      <th>4376</th>\n",
              "      <td>6</td>\n",
              "      <td>atgcagtcc tcctttcgg cgggagcaa caaagcagt agttac...</td>\n",
              "    </tr>\n",
              "    <tr>\n",
              "      <th>4377</th>\n",
              "      <td>6</td>\n",
              "      <td>atgcagtcc tcctttcgg cgggagcaa caaagcagt agttac...</td>\n",
              "    </tr>\n",
              "    <tr>\n",
              "      <th>4378</th>\n",
              "      <td>6</td>\n",
              "      <td>atggggcac cacctggtt gtttgctgt tgtctgtgt tgtggc...</td>\n",
              "    </tr>\n",
              "    <tr>\n",
              "      <th>4379</th>\n",
              "      <td>6</td>\n",
              "      <td>atgcagtcc tcctttcgg cgggagcaa caaagcagt agttac...</td>\n",
              "    </tr>\n",
              "  </tbody>\n",
              "</table>\n",
              "<p>4380 rows × 2 columns</p>\n",
              "</div>\n",
              "      <button class=\"colab-df-convert\" onclick=\"convertToInteractive('df-79364e0b-5b77-46dd-8947-53cc4fe0b107')\"\n",
              "              title=\"Convert this dataframe to an interactive table.\"\n",
              "              style=\"display:none;\">\n",
              "        \n",
              "  <svg xmlns=\"http://www.w3.org/2000/svg\" height=\"24px\"viewBox=\"0 0 24 24\"\n",
              "       width=\"24px\">\n",
              "    <path d=\"M0 0h24v24H0V0z\" fill=\"none\"/>\n",
              "    <path d=\"M18.56 5.44l.94 2.06.94-2.06 2.06-.94-2.06-.94-.94-2.06-.94 2.06-2.06.94zm-11 1L8.5 8.5l.94-2.06 2.06-.94-2.06-.94L8.5 2.5l-.94 2.06-2.06.94zm10 10l.94 2.06.94-2.06 2.06-.94-2.06-.94-.94-2.06-.94 2.06-2.06.94z\"/><path d=\"M17.41 7.96l-1.37-1.37c-.4-.4-.92-.59-1.43-.59-.52 0-1.04.2-1.43.59L10.3 9.45l-7.72 7.72c-.78.78-.78 2.05 0 2.83L4 21.41c.39.39.9.59 1.41.59.51 0 1.02-.2 1.41-.59l7.78-7.78 2.81-2.81c.8-.78.8-2.07 0-2.86zM5.41 20L4 18.59l7.72-7.72 1.47 1.35L5.41 20z\"/>\n",
              "  </svg>\n",
              "      </button>\n",
              "      \n",
              "  <style>\n",
              "    .colab-df-container {\n",
              "      display:flex;\n",
              "      flex-wrap:wrap;\n",
              "      gap: 12px;\n",
              "    }\n",
              "\n",
              "    .colab-df-convert {\n",
              "      background-color: #E8F0FE;\n",
              "      border: none;\n",
              "      border-radius: 50%;\n",
              "      cursor: pointer;\n",
              "      display: none;\n",
              "      fill: #1967D2;\n",
              "      height: 32px;\n",
              "      padding: 0 0 0 0;\n",
              "      width: 32px;\n",
              "    }\n",
              "\n",
              "    .colab-df-convert:hover {\n",
              "      background-color: #E2EBFA;\n",
              "      box-shadow: 0px 1px 2px rgba(60, 64, 67, 0.3), 0px 1px 3px 1px rgba(60, 64, 67, 0.15);\n",
              "      fill: #174EA6;\n",
              "    }\n",
              "\n",
              "    [theme=dark] .colab-df-convert {\n",
              "      background-color: #3B4455;\n",
              "      fill: #D2E3FC;\n",
              "    }\n",
              "\n",
              "    [theme=dark] .colab-df-convert:hover {\n",
              "      background-color: #434B5C;\n",
              "      box-shadow: 0px 1px 3px 1px rgba(0, 0, 0, 0.15);\n",
              "      filter: drop-shadow(0px 1px 2px rgba(0, 0, 0, 0.3));\n",
              "      fill: #FFFFFF;\n",
              "    }\n",
              "  </style>\n",
              "\n",
              "      <script>\n",
              "        const buttonEl =\n",
              "          document.querySelector('#df-79364e0b-5b77-46dd-8947-53cc4fe0b107 button.colab-df-convert');\n",
              "        buttonEl.style.display =\n",
              "          google.colab.kernel.accessAllowed ? 'block' : 'none';\n",
              "\n",
              "        async function convertToInteractive(key) {\n",
              "          const element = document.querySelector('#df-79364e0b-5b77-46dd-8947-53cc4fe0b107');\n",
              "          const dataTable =\n",
              "            await google.colab.kernel.invokeFunction('convertToInteractive',\n",
              "                                                     [key], {});\n",
              "          if (!dataTable) return;\n",
              "\n",
              "          const docLinkHtml = 'Like what you see? Visit the ' +\n",
              "            '<a target=\"_blank\" href=https://colab.research.google.com/notebooks/data_table.ipynb>data table notebook</a>'\n",
              "            + ' to learn more about interactive tables.';\n",
              "          element.innerHTML = '';\n",
              "          dataTable['output_type'] = 'display_data';\n",
              "          await google.colab.output.renderOutput(dataTable, element);\n",
              "          const docLink = document.createElement('div');\n",
              "          docLink.innerHTML = docLinkHtml;\n",
              "          element.appendChild(docLink);\n",
              "        }\n",
              "      </script>\n",
              "    </div>\n",
              "  </div>\n",
              "  "
            ],
            "text/plain": [
              "     class                                             k_mers\n",
              "0        4  atgccccaa caactaaat aatactacc accgtatgg tggccc...\n",
              "1        4  atgaacgaa gaaaatctg ctgttcgct gcttcattc ttcatt...\n",
              "2        3  atgtgtggc ggcatttgg tgggcgctg ctgtttggc ggcagt...\n",
              "3        3  atgtgtggc ggcatttgg tgggcgctg ctgtttggc ggcagt...\n",
              "4        3  atgcaacag cagcatttt tttgaattt tttgaatac taccag...\n",
              "...    ...                                                ...\n",
              "4375     0  atggaagat gatttggag gaggaaaca acattattt tttgaa...\n",
              "4376     6  atgcagtcc tcctttcgg cgggagcaa caaagcagt agttac...\n",
              "4377     6  atgcagtcc tcctttcgg cgggagcaa caaagcagt agttac...\n",
              "4378     6  atggggcac cacctggtt gtttgctgt tgtctgtgt tgtggc...\n",
              "4379     6  atgcagtcc tcctttcgg cgggagcaa caaagcagt agttac...\n",
              "\n",
              "[4380 rows x 2 columns]"
            ]
          },
          "execution_count": 10,
          "metadata": {},
          "output_type": "execute_result"
        }
      ],
      "source": [
        "human_df"
      ]
    },
    {
      "cell_type": "markdown",
      "metadata": {
        "id": "cyuu7S82L_7Y"
      },
      "source": [
        "# Tokenization ✅"
      ]
    },
    {
      "cell_type": "code",
      "execution_count": null,
      "metadata": {
        "id": "xdl6VelQmOum"
      },
      "outputs": [],
      "source": [
        "from keras.preprocessing.text import Tokenizer\n",
        "max_features = 90000\n",
        "tk = Tokenizer(lower = True , num_words = max_features)\n",
        "full_text = list(human_df['k_mers'].values)\n",
        "tk.fit_on_texts(full_text)"
      ]
    },
    {
      "cell_type": "code",
      "execution_count": null,
      "metadata": {
        "id": "J5roWIC0mOxb"
      },
      "outputs": [],
      "source": [
        "human_df['t'] = tk.texts_to_sequences(human_df['k_mers'])"
      ]
    },
    {
      "cell_type": "code",
      "execution_count": null,
      "metadata": {
        "colab": {
          "base_uri": "https://localhost:8080/"
        },
        "id": "-3r6IrYamO0T",
        "outputId": "f44b9a6f-6bf6-4588-c6e6-7d74fc805ccc"
      },
      "outputs": [
        {
          "data": {
            "text/plain": [
              "2472"
            ]
          },
          "execution_count": 13,
          "metadata": {},
          "output_type": "execute_result"
        }
      ],
      "source": [
        "m = np.max(human_df['t'].apply((lambda x: len(x))))\n",
        "m"
      ]
    },
    {
      "cell_type": "code",
      "execution_count": null,
      "metadata": {
        "colab": {
          "base_uri": "https://localhost:8080/"
        },
        "id": "J_QBKL9EmO3I",
        "outputId": "95a382c7-9ad5-4ea3-fb58-e4d3103d4ac9"
      },
      "outputs": [
        {
          "data": {
            "text/plain": [
              "(4380, 2472)"
            ]
          },
          "execution_count": 14,
          "metadata": {},
          "output_type": "execute_result"
        }
      ],
      "source": [
        "max_len = 2472\n",
        "x = pad_sequences(human_df['t'], maxlen = max_len)\n",
        "x.shape\n",
        "#adding a pad to our tokenized sentence to make them all of the same length ."
      ]
    },
    {
      "cell_type": "code",
      "execution_count": null,
      "metadata": {
        "colab": {
          "base_uri": "https://localhost:8080/"
        },
        "id": "VMD5b7p1mO54",
        "outputId": "2061dc93-0194-46d6-a752-e8985d582bc5"
      },
      "outputs": [
        {
          "data": {
            "text/plain": [
              "(4380,)"
            ]
          },
          "execution_count": 15,
          "metadata": {},
          "output_type": "execute_result"
        }
      ],
      "source": [
        "y = np.array(human_df['class'])\n",
        "y.shape"
      ]
    },
    {
      "cell_type": "code",
      "execution_count": null,
      "metadata": {
        "id": "4GX7MGWJmO9P"
      },
      "outputs": [],
      "source": [
        "from imblearn.over_sampling import ADASYN\n",
        "adasyn = ADASYN()\n",
        "x, y = adasyn.fit_resample(x , y)"
      ]
    },
    {
      "cell_type": "markdown",
      "metadata": {
        "id": "lzEn23yTXkfm"
      },
      "source": []
    },
    {
      "cell_type": "markdown",
      "metadata": {
        "id": "_7C3opA7M5dT"
      },
      "source": [
        "**SMOTE 🎈:** \n",
        "\n",
        "\n",
        "\n",
        "Synthetic Minority Over sampling Technique (SMOTE) algorithm applies KNN approach where it selects K nearest neighbors, joins them and creates the synthetic samples in the space. The algorithm takes the feature vectors and its nearest neighbors, computes the distance between these vectors. The difference is multiplied by random number between (0, 1) and it is added back to feature. SMOTE algorithm is a pioneer algorithm and many other algorithms are derived from SMOTE , one of these algorithms is ADASYN .\n",
        "\n",
        "🍂🍂🍂🍂🍂🍂🍂🍂🍂🍂🍂\n",
        "\n",
        "**ADASYN ❄:**\n",
        "\n",
        "ADAptive SYNthetic (ADASYN) is based on the idea of adaptively generating minority data samples according to their distributions using K nearest neighbor. The algorithm adaptively updates the distribution and there are no assumptions made for the underlying distribution of the data.  The algorithm uses Euclidean distance for KNN Algorithm.\n",
        "\n",
        "🍂🍂🍂🍂🍂🍂🍂🍂🍂🍂🍂\n",
        "\n",
        "**The key difference between ADASYN and SMOTE 🌻 :**\n",
        "\n",
        " is that the former dont put the generated elements in linearity with the original ones , instead a random small number will be added to break the linear position , this render our generated instances more realistic."
      ]
    },
    {
      "cell_type": "code",
      "execution_count": null,
      "metadata": {
        "colab": {
          "base_uri": "https://localhost:8080/"
        },
        "id": "qFTH0qY5KUxY",
        "outputId": "c1b8a199-9039-40be-8389-b9a38e0a02ab"
      },
      "outputs": [
        {
          "name": "stdout",
          "output_type": "stream",
          "text": [
            "[['0' 1276]\n",
            " ['1' 1371]\n",
            " ['2' 1346]\n",
            " ['3' 1239]\n",
            " ['4' 1334]\n",
            " ['5' 1348]\n",
            " ['6' 1343]]\n"
          ]
        }
      ],
      "source": [
        "unique, counts = np.unique(y, return_counts=True)\n",
        "print(np.asarray((unique, counts)).T)"
      ]
    },
    {
      "cell_type": "markdown",
      "metadata": {
        "id": "Yil301P7ObKV"
      },
      "source": [
        "now we can see that the data is balanced "
      ]
    },
    {
      "cell_type": "markdown",
      "metadata": {
        "id": "C0ZlYQso1Rhb"
      },
      "source": [
        "# CNN_LSTM :\n",
        "i've used the cnn conv1D layers for feature extraction from text since it is hard for lstm to detect features , beside the impossible fact of select ing features manually as we were used to do in data mining problems , so cnn was the best choice then i've used lstm since it have a long term memory which maybe important in our case to help in dna classification ."
      ]
    },
    {
      "cell_type": "code",
      "execution_count": null,
      "metadata": {
        "colab": {
          "base_uri": "https://localhost:8080/"
        },
        "id": "Gw1FITEkmdec",
        "outputId": "ea967127-46d9-4910-cb8b-9625fa88a648"
      },
      "outputs": [
        {
          "name": "stderr",
          "output_type": "stream",
          "text": [
            "WARNING:tensorflow:Layer lstm will not use cuDNN kernels since it doesn't meet the criteria. It will use a generic GPU kernel as fallback when running on GPU.\n",
            "WARNING:tensorflow:Layer lstm_1 will not use cuDNN kernels since it doesn't meet the criteria. It will use a generic GPU kernel as fallback when running on GPU.\n"
          ]
        },
        {
          "name": "stdout",
          "output_type": "stream",
          "text": [
            "Model: \"sequential\"\n",
            "_________________________________________________________________\n",
            " Layer (type)                Output Shape              Param #   \n",
            "=================================================================\n",
            " embedding (Embedding)       (None, 2472, 1000)        90000000  \n",
            "                                                                 \n",
            " conv1d (Conv1D)             (None, 2468, 128)         640128    \n",
            "                                                                 \n",
            " max_pooling1d (MaxPooling1D  (None, 1234, 128)        0         \n",
            " )                                                               \n",
            "                                                                 \n",
            " spatial_dropout1d (SpatialD  (None, 1234, 128)        0         \n",
            " ropout1D)                                                       \n",
            "                                                                 \n",
            " conv1d_1 (Conv1D)           (None, 1232, 256)         98560     \n",
            "                                                                 \n",
            " max_pooling1d_1 (MaxPooling  (None, 616, 256)         0         \n",
            " 1D)                                                             \n",
            "                                                                 \n",
            " lstm (LSTM)                 (None, 616, 40)           47520     \n",
            "                                                                 \n",
            " lstm_1 (LSTM)               (None, 10)                2040      \n",
            "                                                                 \n",
            " dense (Dense)               (None, 7)                 77        \n",
            "                                                                 \n",
            "=================================================================\n",
            "Total params: 90,788,325\n",
            "Trainable params: 90,788,325\n",
            "Non-trainable params: 0\n",
            "_________________________________________________________________\n",
            "None\n"
          ]
        }
      ],
      "source": [
        "from keras.layers import Dense, Embedding, LSTM, SpatialDropout1D\n",
        "from keras.models import Sequential\n",
        "model = Sequential()\n",
        "model.add(Embedding(90000 , 1000 , input_length = 2472))\n",
        "model.add(Conv1D(filters = 128 , kernel_size = 5, padding = 'valid', activation = 'relu'))\n",
        "model.add(MaxPooling1D(pool_size = 2))\n",
        "model.add(SpatialDropout1D(0.4))\n",
        "model.add(Conv1D(filters = 256 , kernel_size = 3, padding = 'valid', activation = 'relu'))\n",
        "model.add(MaxPooling1D(pool_size=2))\n",
        "\n",
        "model.add(LSTM(40, dropout=0.4, recurrent_dropout=0.5 , return_sequences= True))\n",
        "model.add(LSTM(10, dropout=0.2, recurrent_dropout=0.2 , return_sequences= False))\n",
        "model.add(Dense(7,activation='softmax'))\n",
        "model.compile(loss = 'sparse_categorical_crossentropy', optimizer='adam',metrics = ['accuracy'])\n",
        "print(model.summary())"
      ]
    },
    {
      "cell_type": "code",
      "execution_count": null,
      "metadata": {
        "id": "PCQLC5VUmdhO"
      },
      "outputs": [],
      "source": [
        "from sklearn.model_selection import train_test_split\n",
        "x_train, x_test, y_train, y_test = train_test_split(x , y , test_size = 0.30, random_state = 42)"
      ]
    },
    {
      "cell_type": "code",
      "execution_count": null,
      "metadata": {
        "colab": {
          "base_uri": "https://localhost:8080/"
        },
        "id": "SWZmvWVOJEFl",
        "outputId": "cd41bd57-5a2d-46c8-993f-0ddd387cc628"
      },
      "outputs": [
        {
          "data": {
            "text/plain": [
              "((6479, 2472), (2778, 2472), (6479,), (2778,))"
            ]
          },
          "execution_count": 20,
          "metadata": {},
          "output_type": "execute_result"
        }
      ],
      "source": [
        "x_train.shape , x_test.shape , y_train.shape , y_test.shape "
      ]
    },
    {
      "cell_type": "code",
      "execution_count": null,
      "metadata": {
        "id": "pp9DIzjkFAIZ"
      },
      "outputs": [],
      "source": [
        "x_train, x_val, y_train, y_val = train_test_split(x_train , y_train , test_size = 0.20, random_state = 42)"
      ]
    },
    {
      "cell_type": "code",
      "execution_count": null,
      "metadata": {
        "colab": {
          "base_uri": "https://localhost:8080/"
        },
        "id": "YnFKQQgPJO_t",
        "outputId": "0eb0563e-b300-4a37-e4fe-a5b2c8ffb6c6"
      },
      "outputs": [
        {
          "data": {
            "text/plain": [
              "((5183, 2472), (1296, 2472), (5183,), (1296,))"
            ]
          },
          "execution_count": 22,
          "metadata": {},
          "output_type": "execute_result"
        }
      ],
      "source": [
        "x_train.shape , x_val.shape , y_train.shape , y_val.shape "
      ]
    },
    {
      "cell_type": "code",
      "execution_count": null,
      "metadata": {
        "id": "OtnVxASyn9W9"
      },
      "outputs": [],
      "source": [
        "y_train = [np.int32(numeric_string) for numeric_string in y_train]\n",
        "y_train = np.array(y_train)"
      ]
    },
    {
      "cell_type": "code",
      "execution_count": null,
      "metadata": {
        "id": "gp_D_iDNJ1PU"
      },
      "outputs": [],
      "source": [
        "y_test = [np.int32(numeric_string) for numeric_string in y_test]\n",
        "y_test = np.array(y_test)"
      ]
    },
    {
      "cell_type": "code",
      "execution_count": null,
      "metadata": {
        "id": "ftQ9xntPFJlu"
      },
      "outputs": [],
      "source": [
        "y_val = [np.int32(numeric_string) for numeric_string in y_val]\n",
        "y_val = np.array(y_val)"
      ]
    },
    {
      "cell_type": "code",
      "execution_count": null,
      "metadata": {
        "colab": {
          "base_uri": "https://localhost:8080/"
        },
        "id": "dHHrOvf8EZcD",
        "outputId": "5db734ae-d728-44c2-ae4c-e322e373fbad"
      },
      "outputs": [
        {
          "data": {
            "text/plain": [
              "((5183, 2472), (1296, 2472), (5183,), (1296,))"
            ]
          },
          "execution_count": 26,
          "metadata": {},
          "output_type": "execute_result"
        }
      ],
      "source": [
        "x_train.shape , x_val.shape , y_train.shape , y_val.shape "
      ]
    },
    {
      "cell_type": "code",
      "execution_count": null,
      "metadata": {
        "colab": {
          "base_uri": "https://localhost:8080/"
        },
        "id": "0rT8XrJrEhct",
        "outputId": "03565f13-40d4-48ca-9e69-93a56f285f8e"
      },
      "outputs": [
        {
          "data": {
            "text/plain": [
              "(129, 32)"
            ]
          },
          "execution_count": 27,
          "metadata": {},
          "output_type": "execute_result"
        }
      ],
      "source": [
        "5183//40 , 1296//40"
      ]
    },
    {
      "cell_type": "code",
      "execution_count": null,
      "metadata": {
        "colab": {
          "background_save": true,
          "base_uri": "https://localhost:8080/"
        },
        "id": "tYjwqYJMmdkF",
        "outputId": "2a39bc35-4d70-4b39-8b22-9fc3202e2a16"
      },
      "outputs": [
        {
          "name": "stdout",
          "output_type": "stream",
          "text": [
            "Epoch 1/5\n",
            "129/129 [==============================] - 772s 6s/step - loss: 1.8299 - accuracy: 0.2434 - val_loss: 1.6291 - val_accuracy: 0.3492\n",
            "Epoch 2/5\n",
            "129/129 [==============================] - 760s 6s/step - loss: 1.0967 - accuracy: 0.5623 - val_loss: 1.7362 - val_accuracy: 0.3984\n",
            "Epoch 3/5\n",
            "129/129 [==============================] - 742s 6s/step - loss: 0.7175 - accuracy: 0.7503 - val_loss: 1.7566 - val_accuracy: 0.4492\n",
            "Epoch 4/5\n",
            "129/129 [==============================] - 727s 6s/step - loss: 0.4048 - accuracy: 0.8909 - val_loss: 1.9991 - val_accuracy: 0.4664\n",
            "Epoch 5/5\n",
            "129/129 [==============================] - 702s 5s/step - loss: 0.2356 - accuracy: 0.9512 - val_loss: 2.1212 - val_accuracy: 0.4766\n"
          ]
        },
        {
          "data": {
            "text/plain": [
              "<keras.callbacks.History at 0x7f22e8431310>"
            ]
          },
          "execution_count": 28,
          "metadata": {},
          "output_type": "execute_result"
        }
      ],
      "source": [
        "model.fit(x_train, y_train, epochs = 5 , batch_size = 40 , validation_data = (x_val , y_val), steps_per_epoch = 129 , validation_steps = 32)"
      ]
    },
    {
      "cell_type": "code",
      "execution_count": null,
      "metadata": {
        "id": "cs0rYO38zigW"
      },
      "outputs": [],
      "source": [
        "model.evaluate(x_test , y_test)"
      ]
    },
    {
      "cell_type": "code",
      "execution_count": null,
      "metadata": {
        "colab": {
          "background_save": true
        },
        "id": "mMD0xo0QmdqC"
      },
      "outputs": [],
      "source": [
        "# from keras.layers import Dense, Embedding, LSTM, SpatialDropout1D\n",
        "# from keras.models import Sequential\n",
        "# from tensorflow.compat.v1.keras.layers import Concatenate\n",
        "# cnn_model = Sequential()\n",
        "# cnn_model.add(Embedding(9000, 100, input_length = 649))\n",
        "# cnn_model.add(Conv1D(filters = 128, kernel_size = 2, padding = 'same', activation = 'relu'))\n",
        "# cnn_model.add(MaxPooling1D(pool_size=2))\n",
        "\n",
        "# cnn_model.add(Conv1D(filters = 64, kernel_size = 2, padding = 'same', activation = 'relu'))\n",
        "# cnn_model.add(MaxPooling1D(pool_size = 2))\n",
        "\n",
        "# cnn_model.add(Conv1D(filters = 32, kernel_size = 2, padding = 'same', activation = 'relu'))\n",
        "# cnn_model.add(MaxPooling1D(pool_size = 2))\n",
        "# cnn_model.add(Flatten())\n",
        "\n",
        "# lstm_model = Sequential()\n",
        "# lstm_model.add(Embedding(9000, 100, input_length = 649))\n",
        "# lstm_model.add(Bidirectional(CuDNNLSTM(50, return_sequences = True)))\n",
        "# lstm_model.add(Flatten()) #we can delete flatten if we set return sequences to false \n",
        "\n",
        "# merge = Concatenate([lstm_model, cnn_model])\n",
        "# hidden = Dense(7, activation = 'sigmoid')\n",
        "# conc_model = Sequential()\n",
        "# conc_model.add(merge)\n",
        "# conc_model.add(hidden)\n",
        "# c_model = Model([(649,1),(649,1)],1)\n",
        "# Input(shape=(27, 27, 1))\n",
        "# conc_model.compile(loss = 'sparse_categorical_crossentropy', optimizer='adam',metrics = ['accuracy'])\n"
      ]
    },
    {
      "cell_type": "code",
      "execution_count": null,
      "metadata": {
        "id": "G9CHuU_R3sLJ"
      },
      "outputs": [],
      "source": [
        "# print(c_model.summary())"
      ]
    },
    {
      "cell_type": "code",
      "execution_count": null,
      "metadata": {
        "id": "x00LNsCl5S2w"
      },
      "outputs": [],
      "source": [
        "# conc_model.fit(x_train, y_train, epochs = 20, batch_size = 100)"
      ]
    },
    {
      "cell_type": "code",
      "execution_count": null,
      "metadata": {
        "id": "Zxw1MuhgoTk4"
      },
      "outputs": [],
      "source": []
    },
    {
      "cell_type": "code",
      "execution_count": null,
      "metadata": {
        "id": "EICtuRC83xly"
      },
      "outputs": [],
      "source": [
        "# from keras.layers.merge import concatenate\n",
        "# from keras.models import Model, Sequential\n",
        "# from keras.layers import Dense, Input , MaxPooling1D\n",
        "\n",
        "# model1_in = Input(shape=(649))\n",
        "# model11_out = Embedding(9000, 300)(model1_in)\n",
        "# model12_out = Conv1D(filters = 64, kernel_size = 3, padding = 'same', activation = 'relu')(model11_out)\n",
        "# model13_out = MaxPooling1D(pool_size=2)(model12_out)\n",
        "# model1_out = Flatten()(model13_out)\n",
        "# model1 = Model(model1_in, model1_out)\n",
        "\n",
        "# model2_in = Input(shape=(649))\n",
        "# model21_out = Embedding(9000, 300)(model2_in)\n",
        "# model22_out = Bidirectional(LSTM(20, return_sequences = True))(model21_out)\n",
        "# model2_out = Flatten()(model22_out)\n",
        "# model2 = Model(model2_in, model2_out)\n",
        "\n",
        "\n",
        "# concatenated = concatenate([model1_out, model2_out])\n",
        "# out = Dense(1, activation='softmax', name='output_layer')(concatenated)\n",
        "\n",
        "# merged_model = Model([model1_in, model2_in], out)\n",
        "# merged_model.compile(loss='binary_crossentropy', optimizer='adam', \n",
        "# metrics=['accuracy'])\n",
        "\n",
        "# checkpoint = ModelCheckpoint('weights.h5', monitor='val_acc',\n",
        "# save_best_only=True, verbose=2)\n",
        "# early_stopping = EarlyStopping(monitor=\"val_loss\", patience=2)\n"
      ]
    },
    {
      "cell_type": "code",
      "execution_count": null,
      "metadata": {
        "id": "3usaccrCTO8H"
      },
      "outputs": [],
      "source": [
        "# merged_model.summary()"
      ]
    },
    {
      "cell_type": "code",
      "execution_count": null,
      "metadata": {
        "id": "Q23Q1yKuTMpH"
      },
      "outputs": [],
      "source": [
        "# merged_model.fit([x_train , x_train ], y = y_train, batch_size = 100, epochs = 10)"
      ]
    },
    {
      "cell_type": "code",
      "execution_count": null,
      "metadata": {
        "id": "1EClnGnDhLof"
      },
      "outputs": [],
      "source": [
        "# merged_model.evaluate([x_train , x_train ], y=y_train)"
      ]
    },
    {
      "cell_type": "code",
      "execution_count": null,
      "metadata": {
        "id": "cbo-9c7pm12q"
      },
      "outputs": [],
      "source": [
        "# from keras.layers import Dense, Embedding, LSTM, SpatialDropout1D\n",
        "# from keras.models import Sequential\n",
        "# model = Sequential()\n",
        "# model.add(Embedding(9000 , 100 , input_length = 649))\n",
        "# model.add(Conv1D(filters = 16, kernel_size = 3, padding = 'same', activation = 'relu'))\n",
        "# model.add(MaxPooling1D(pool_size=2))\n",
        "# model.add(SpatialDropout1D(0.4))\n",
        "# model.add(Conv1D(filters = 32, kernel_size = 3, padding = 'same', activation = 'relu'))\n",
        "# model.add(MaxPooling1D(pool_size=2))\n",
        "# model.add(Conv1D(filters = 128, kernel_size = 5, padding = 'same', activation = 'relu'))\n",
        "# model.add(MaxPooling1D(pool_size=2))\n",
        "# model.add(SpatialDropout1D(0.4))\n",
        "# model.add(Bidirectional(LSTM(40, dropout=0.5, recurrent_dropout=0.2 , return_sequences= False)))\n",
        "# model.add(Dense(10,activation='ReLU'))\n",
        "# model.add(Dense(7,activation='softmax'))\n",
        "# model.compile(loss = 'sparse_categorical_crossentropy', optimizer='adam',metrics = ['accuracy'])\n",
        "# print(model.summary())"
      ]
    },
    {
      "cell_type": "code",
      "execution_count": null,
      "metadata": {
        "id": "mUC18YxcnVci"
      },
      "outputs": [],
      "source": [
        "# model.fit(x_train, y_train, epochs = 10, batch_size = 30)"
      ]
    },
    {
      "cell_type": "code",
      "execution_count": null,
      "metadata": {
        "id": "EaAdkRQnoUva"
      },
      "outputs": [],
      "source": [
        "# model.evaluate(x_test ,y_test)"
      ]
    }
  ],
  "metadata": {
    "accelerator": "GPU",
    "colab": {
      "provenance": []
    },
    "gpuClass": "standard",
    "kernelspec": {
      "display_name": "Python 3",
      "name": "python3"
    },
    "language_info": {
      "name": "python"
    }
  },
  "nbformat": 4,
  "nbformat_minor": 0
}