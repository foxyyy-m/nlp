{
  "nbformat": 4,
  "nbformat_minor": 0,
  "metadata": {
    "colab": {
      "provenance": [],
      "authorship_tag": "ABX9TyOQrEnQlvAmo22xCkJ+0gim"
    },
    "kernelspec": {
      "name": "python3",
      "display_name": "Python 3"
    },
    "language_info": {
      "name": "python"
    }
  },
  "cells": [
    {
      "cell_type": "code",
      "execution_count": 1,
      "metadata": {
        "id": "0Ua0BLhEKztI"
      },
      "outputs": [],
      "source": [
        "x = '/content/N1.xml'"
      ]
    },
    {
      "cell_type": "code",
      "source": [
        "import xml.etree.ElementTree as ET\n",
        "import os"
      ],
      "metadata": {
        "id": "Ef7XZGOxK6MA"
      },
      "execution_count": 2,
      "outputs": []
    },
    {
      "cell_type": "code",
      "source": [
        "tree = ET.parse(x)"
      ],
      "metadata": {
        "id": "FzM6PKfdK6S4"
      },
      "execution_count": 3,
      "outputs": []
    },
    {
      "cell_type": "code",
      "source": [
        "tree"
      ],
      "metadata": {
        "colab": {
          "base_uri": "https://localhost:8080/"
        },
        "id": "MV_EriOgLSLE",
        "outputId": "037b9696-708f-4dd6-d8dc-6eb6ea72c0d4"
      },
      "execution_count": 4,
      "outputs": [
        {
          "output_type": "execute_result",
          "data": {
            "text/plain": [
              "<xml.etree.ElementTree.ElementTree at 0x7b9d465dfa00>"
            ]
          },
          "metadata": {},
          "execution_count": 4
        }
      ]
    },
    {
      "cell_type": "code",
      "source": [
        "root = tree.getroot()"
      ],
      "metadata": {
        "id": "lsZofE2_K6V-"
      },
      "execution_count": 5,
      "outputs": []
    },
    {
      "cell_type": "code",
      "source": [
        "root"
      ],
      "metadata": {
        "colab": {
          "base_uri": "https://localhost:8080/"
        },
        "id": "4oTn7fnfLWWc",
        "outputId": "fb290856-3fb8-49d3-cafd-074bb6a1b08d"
      },
      "execution_count": 6,
      "outputs": [
        {
          "output_type": "execute_result",
          "data": {
            "text/plain": [
              "<Element 'annotation' at 0x7b9d2d837380>"
            ]
          },
          "metadata": {},
          "execution_count": 6
        }
      ]
    },
    {
      "cell_type": "code",
      "source": [
        "os.path.basename(x)"
      ],
      "metadata": {
        "colab": {
          "base_uri": "https://localhost:8080/",
          "height": 35
        },
        "id": "ZjQfaI6OLqZX",
        "outputId": "7acf7f06-093e-4b46-c902-21f6b74ee057"
      },
      "execution_count": 7,
      "outputs": [
        {
          "output_type": "execute_result",
          "data": {
            "text/plain": [
              "'N1.xml'"
            ],
            "application/vnd.google.colaboratory.intrinsic+json": {
              "type": "string"
            }
          },
          "metadata": {},
          "execution_count": 7
        }
      ]
    },
    {
      "cell_type": "code",
      "source": [
        "image_filename = os.path.splitext(os.path.basename(x))[0]"
      ],
      "metadata": {
        "id": "EDndAmoWK6YW"
      },
      "execution_count": 17,
      "outputs": []
    },
    {
      "cell_type": "code",
      "source": [
        "image_filename"
      ],
      "metadata": {
        "colab": {
          "base_uri": "https://localhost:8080/",
          "height": 35
        },
        "id": "rwvZFBJ4LtVM",
        "outputId": "3c56779e-18c8-4af7-c6ef-a254bb9f7bc4"
      },
      "execution_count": 18,
      "outputs": [
        {
          "output_type": "execute_result",
          "data": {
            "text/plain": [
              "'N1'"
            ],
            "application/vnd.google.colaboratory.intrinsic+json": {
              "type": "string"
            }
          },
          "metadata": {},
          "execution_count": 18
        }
      ]
    },
    {
      "cell_type": "code",
      "source": [
        "yolo_filename = image_filename + \".txt\""
      ],
      "metadata": {
        "id": "tqV0u3vTK6a3"
      },
      "execution_count": 19,
      "outputs": []
    },
    {
      "cell_type": "code",
      "source": [
        "yolo_filename"
      ],
      "metadata": {
        "colab": {
          "base_uri": "https://localhost:8080/",
          "height": 35
        },
        "id": "FGIOlDw2K6dw",
        "outputId": "2305f441-a958-405a-ab61-8163ee251839"
      },
      "execution_count": 20,
      "outputs": [
        {
          "output_type": "execute_result",
          "data": {
            "text/plain": [
              "'N1.txt'"
            ],
            "application/vnd.google.colaboratory.intrinsic+json": {
              "type": "string"
            }
          },
          "metadata": {},
          "execution_count": 20
        }
      ]
    },
    {
      "cell_type": "code",
      "source": [
        "classes = [\"number_plate\"]"
      ],
      "metadata": {
        "id": "bXi5t1_QMgdO"
      },
      "execution_count": 21,
      "outputs": []
    },
    {
      "cell_type": "code",
      "source": [
        "with open(yolo_filename, \"w\") as yolo_file:\n",
        "        for obj in root.findall(\"object\"):\n",
        "            class_name = obj.find(\"name\").text\n",
        "            if class_name not in classes:\n",
        "                continue\n",
        "\n",
        "            class_index = classes.index(class_name)\n",
        "\n",
        "            bbox = obj.find(\"bndbox\")\n",
        "            xmin = float(bbox.find(\"xmin\").text)\n",
        "            ymin = float(bbox.find(\"ymin\").text)\n",
        "            xmax = float(bbox.find(\"xmax\").text)\n",
        "            ymax = float(bbox.find(\"ymax\").text)\n",
        "\n",
        "            width = xmax - xmin\n",
        "            height = ymax - ymin\n",
        "            x_center = xmin + width / 2\n",
        "            y_center = ymin + height / 2\n",
        "\n",
        "            # YOLO format: class_index x_center y_center width height\n",
        "            yolo_line = f\"{class_index} {x_center} {y_center} {width} {height}\\n\"\n",
        "            yolo_file.write(yolo_line)\n"
      ],
      "metadata": {
        "id": "aezfUfsWLxPv"
      },
      "execution_count": 22,
      "outputs": []
    },
    {
      "cell_type": "code",
      "source": [
        "yolo_file"
      ],
      "metadata": {
        "colab": {
          "base_uri": "https://localhost:8080/"
        },
        "id": "S1ylIpIgLxSU",
        "outputId": "aaee2b7e-642f-4af6-d9ee-c7dbb82679d0"
      },
      "execution_count": 14,
      "outputs": [
        {
          "output_type": "execute_result",
          "data": {
            "text/plain": [
              "<_io.TextIOWrapper name='N1.txt' mode='w' encoding='UTF-8'>"
            ]
          },
          "metadata": {},
          "execution_count": 14
        }
      ]
    },
    {
      "cell_type": "code",
      "source": [
        "import xml.etree.ElementTree as ET  # Import the ElementTree module for XML parsing\n",
        "import os\n",
        "\n",
        "def convert_xml_to_yolo(xml_path, classes):\n",
        "    # Parse the XML file using ElementTree\n",
        "    tree = ET.parse(xml_path)\n",
        "    root = tree.getroot()\n",
        "\n",
        "    # Extract the base filename without the extension\n",
        "    image_filename = os.path.splitext(os.path.basename(xml_path))[0]\n",
        "    # Create the corresponding YOLO label filename\n",
        "    yolo_filename = image_filename + \".txt\"\n",
        "\n",
        "    # Open the YOLO label file for writing\n",
        "    with open(yolo_filename, \"w\") as yolo_file:\n",
        "        # Loop through each 'object' element in the XML\n",
        "        for obj in root.findall(\"object\"):\n",
        "            # Get the class name of the object\n",
        "            class_name = obj.find(\"name\").text\n",
        "            # Skip objects not in the specified classes\n",
        "            if class_name not in classes:\n",
        "                continue\n",
        "\n",
        "            # Get the index of the class in the classes list\n",
        "            class_index = classes.index(class_name)\n",
        "\n",
        "            # Extract bounding box coordinates from the XML\n",
        "            bbox = obj.find(\"bndbox\")\n",
        "            xmin = float(bbox.find(\"xmin\").text)\n",
        "            ymin = float(bbox.find(\"ymin\").text)\n",
        "            xmax = float(bbox.find(\"xmax\").text)\n",
        "            ymax = float(bbox.find(\"ymax\").text)\n",
        "\n",
        "            # Calculate width, height, and center coordinates\n",
        "            width = xmax - xmin\n",
        "            height = ymax - ymin\n",
        "            x_center = xmin + width / 2\n",
        "            y_center = ymin + height / 2\n",
        "\n",
        "            # YOLO format: class_index x_center y_center width height\n",
        "            yolo_line = f\"{class_index} {x_center} {y_center} {width} {height}\\n\"\n",
        "            # Write the YOLO-formatted line to the file\n",
        "            yolo_file.write(yolo_line)"
      ],
      "metadata": {
        "id": "-xGdFnhsLxVa"
      },
      "execution_count": 23,
      "outputs": []
    },
    {
      "cell_type": "code",
      "source": [
        "if __name__ == \"__main__\":\n",
        "    # Specify the folder containing XML files\n",
        "    xml_folder = \"/path/to/xml/files/\"\n",
        "    # List of class names in the order they appear in YOLO format\n",
        "    classes = [\"number_plate\"]  # Add your class names\n",
        "\n",
        "    # Loop through each XML file in the folder\n",
        "    for xml_file in os.listdir(x):\n",
        "        # Check if the file has a .xml extension\n",
        "        if xml_file.endswith(\".xml\"):\n",
        "            # Get the full path to the XML file\n",
        "            xml_path = os.path.join(xml_folder, xml_file)\n",
        "            # Convert the XML to YOLO format and save the result in a text file\n",
        "            convert_xml_to_yolo(xml_path, classes)"
      ],
      "metadata": {
        "id": "-ZmB3ZYPLxYA"
      },
      "execution_count": null,
      "outputs": []
    },
    {
      "cell_type": "code",
      "source": [],
      "metadata": {
        "id": "o0XdeQEaRR0w"
      },
      "execution_count": null,
      "outputs": []
    },
    {
      "cell_type": "markdown",
      "source": [
        "#   cli\n"
      ],
      "metadata": {
        "id": "DjyZGVPrRSP4"
      }
    },
    {
      "cell_type": "code",
      "source": [
        "import os\n",
        "import xml.etree.ElementTree as ET\n",
        "from pathlib import Path\n",
        "\n",
        "def convert_xml_to_yolo(xml_path, classes):\n",
        "    tree = ET.parse(xml_path)\n",
        "    root = tree.getroot()\n",
        "\n",
        "    image_filename = os.path.splitext(os.path.basename(xml_path))[0]\n",
        "    yolo_filename = image_filename + \".txt\"\n",
        "\n",
        "    with open(yolo_filename, \"w\") as yolo_file:\n",
        "        for obj in root.findall(\"object\"):\n",
        "            class_name = obj.find(\"name\").text\n",
        "            if class_name not in classes:\n",
        "                continue\n",
        "\n",
        "            class_index = classes.index(class_name)\n",
        "\n",
        "            bbox = obj.find(\"bndbox\")\n",
        "            xmin = float(bbox.find(\"xmin\").text)\n",
        "            ymin = float(bbox.find(\"ymin\").text)\n",
        "            xmax = float(bbox.find(\"xmax\").text)\n",
        "            ymax = float(bbox.find(\"ymax\").text)\n",
        "\n",
        "            width = xmax - xmin\n",
        "            height = ymax - ymin\n",
        "            x_center = xmin + width / 2\n",
        "            y_center = ymin + height / 2\n",
        "\n",
        "            yolo_line = f\"{class_index} {x_center} {y_center} {width} {height}\\n\"\n",
        "            yolo_file.write(yolo_line)\n",
        "\n",
        "if __name__ == \"__main__\":\n",
        "    # Specify the folder containing XML files as a command line argument\n",
        "    xml_folder = input(\"Enter the path to the folder containing XML files: \")\n",
        "\n",
        "    # Use pathlib to create a Path object for the XML folder\n",
        "    xml_folder_path = Path(xml_folder)\n",
        "\n",
        "    # List of class names in the order they appear in YOLO format\n",
        "    classes = [\"number_plate\"]  # Add your class names\n",
        "\n",
        "    # Loop through each XML file in the folder\n",
        "    for xml_file in xml_folder_path.glob(\"*.xml\"):\n",
        "        xml_path = str(xml_file)\n",
        "        convert_xml_to_yolo(xml_path, classes)\n"
      ],
      "metadata": {
        "id": "Epk7LN6ZLxcK"
      },
      "execution_count": null,
      "outputs": []
    },
    {
      "cell_type": "code",
      "source": [],
      "metadata": {
        "id": "RM6GNSP3K6h3"
      },
      "execution_count": null,
      "outputs": []
    },
    {
      "cell_type": "code",
      "source": [],
      "metadata": {
        "id": "Lb9HOLeSK6l0"
      },
      "execution_count": null,
      "outputs": []
    }
  ]
}